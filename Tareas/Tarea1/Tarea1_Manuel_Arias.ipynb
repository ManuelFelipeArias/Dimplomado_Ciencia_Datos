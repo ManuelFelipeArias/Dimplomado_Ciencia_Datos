{
 "cells": [
  {
   "attachments": {},
   "cell_type": "markdown",
   "metadata": {},
   "source": [
    "#### Concepto de Ciencia de Datos: Introducción al cálculo del promedio en Python\n",
    "![media_logo.gif](media_logo.gif)"
   ]
  },
  {
   "attachments": {},
   "cell_type": "markdown",
   "metadata": {},
   "source": [
    "Hola, mi nombre es Manuel Arias, un de datos apasionada por la programación en Python y el análisis de datos. Estoy estudiando Estadistica en la Universidad Nacional de Colombia y he trabajado en proyectos de análisis de datos en diferentes áreas. Me encanta utilizar Python para hacer análisis de datos y sacar conclusiones significativas de ellos.\n",
    "\n",
    "![autor](autor.JPG)"
   ]
  },
  {
   "attachments": {},
   "cell_type": "markdown",
   "metadata": {},
   "source": [
    "El promedio matemático, también conocido como media, es una medida de tendencia central que se utiliza con frecuencia en ciencia de datos para describir la distribución de los datos. Se define como la suma de todos los valores dividida por la cantidad de valores. La fórmula matemática para calcular el promedio es:"
   ]
  },
  {
   "cell_type": "code",
   "execution_count": 4,
   "metadata": {},
   "outputs": [
    {
     "name": "stdout",
     "output_type": "stream",
     "text": [
      "El promedio de edad es: 35.0\n"
     ]
    }
   ],
   "source": [
    "#media = (x1 + x2 + ... + xn) / n\n",
    "edades = [25, 30, 35, 40, 45]\n",
    "media = sum(edades) / len(edades)\n",
    "print(\"El promedio de edad es:\", media)\n"
   ]
  },
  {
   "attachments": {},
   "cell_type": "markdown",
   "metadata": {},
   "source": [
    "Referencias:\n",
    "\n",
    "Documentación de Python sobre la función sum(): https://docs.python.org/3/library/functions.html#sum"
   ]
  }
 ],
 "metadata": {
  "kernelspec": {
   "display_name": "work1",
   "language": "python",
   "name": "python3"
  },
  "language_info": {
   "codemirror_mode": {
    "name": "ipython",
    "version": 3
   },
   "file_extension": ".py",
   "mimetype": "text/x-python",
   "name": "python",
   "nbconvert_exporter": "python",
   "pygments_lexer": "ipython3",
   "version": "3.10.9"
  },
  "orig_nbformat": 4,
  "vscode": {
   "interpreter": {
    "hash": "3e5dbd6ffe9f220a41236e4cf34615c18da623d327e602ccfccdf8acffb8b4e9"
   }
  }
 },
 "nbformat": 4,
 "nbformat_minor": 2
}
