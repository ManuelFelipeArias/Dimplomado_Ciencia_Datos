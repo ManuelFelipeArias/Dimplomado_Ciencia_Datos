{
 "cells": [
  {
   "attachments": {},
   "cell_type": "markdown",
   "metadata": {},
   "source": [
    "#### 1. Función que calcula la edad de una persona a partir de su fecha de nacimiento:"
   ]
  },
  {
   "cell_type": "code",
   "execution_count": 1,
   "metadata": {},
   "outputs": [],
   "source": [
    "from datetime import datetime\n",
    "\n",
    "def calcular_edad(fecha_nacimiento):\n",
    "    fecha_actual = datetime.now()\n",
    "    edad = fecha_actual.year - fecha_nacimiento.year - ((fecha_actual.month, fecha_actual.day) < (fecha_nacimiento.month, fecha_nacimiento.day))\n",
    "    return edad\n"
   ]
  },
  {
   "cell_type": "code",
   "execution_count": 2,
   "metadata": {},
   "outputs": [
    {
     "name": "stdout",
     "output_type": "stream",
     "text": [
      "28\n"
     ]
    }
   ],
   "source": [
    "fecha_nacimiento = datetime(1995, 2, 15)\n",
    "edad = calcular_edad(fecha_nacimiento)\n",
    "print(edad)\n"
   ]
  },
  {
   "attachments": {},
   "cell_type": "markdown",
   "metadata": {},
   "source": [
    "#### 2. Función que escribe un texto centrado en pantalla:"
   ]
  },
  {
   "cell_type": "code",
   "execution_count": 3,
   "metadata": {},
   "outputs": [],
   "source": [
    "def escribir_centrado(texto):\n",
    "    longitud = len(texto)\n",
    "    espacios = 40 - (longitud // 2)\n",
    "    resultado = \" \" * espacios + texto\n",
    "    print(resultado)\n"
   ]
  },
  {
   "cell_type": "code",
   "execution_count": 9,
   "metadata": {},
   "outputs": [
    {
     "name": "stdout",
     "output_type": "stream",
     "text": [
      "                   Hola mundo! me encanta la ciencia de datos!\n",
      "Hola mundo! me encanta la ciencia de datos!\n"
     ]
    }
   ],
   "source": [
    "texto = \"Hola mundo! me encanta la ciencia de datos!\"\n",
    "escribir_centrado(texto)\n",
    "print(texto)"
   ]
  },
  {
   "attachments": {},
   "cell_type": "markdown",
   "metadata": {},
   "source": [
    "#### 3.Función decorada que escribe un texto en negrita e itálica:"
   ]
  },
  {
   "cell_type": "code",
   "execution_count": 10,
   "metadata": {},
   "outputs": [],
   "source": [
    "def negrita_italica(funcion):\n",
    "    def wrapper(texto):\n",
    "        resultado = f\"**_ {texto}_**\"\n",
    "        funcion(resultado)\n",
    "    return wrapper\n",
    "\n",
    "@negrita_italica\n",
    "def escribir_marcado(texto):\n",
    "    print(texto)\n"
   ]
  },
  {
   "cell_type": "code",
   "execution_count": 11,
   "metadata": {},
   "outputs": [
    {
     "name": "stdout",
     "output_type": "stream",
     "text": [
      "**_ Este texto está marcado_**\n"
     ]
    }
   ],
   "source": [
    "texto = \"Este texto está marcado\"\n",
    "escribir_marcado(texto)\n"
   ]
  },
  {
   "attachments": {},
   "cell_type": "markdown",
   "metadata": {},
   "source": [
    "#### 4. Programa que determina si dos números son múltiplos entre sí:"
   ]
  },
  {
   "cell_type": "code",
   "execution_count": 12,
   "metadata": {},
   "outputs": [
    {
     "name": "stdout",
     "output_type": "stream",
     "text": [
      "10 y 5 son múltiplos entre sí\n"
     ]
    }
   ],
   "source": [
    "def son_multiplos(num1, num2):\n",
    "    if num1 % num2 == 0 or num2 % num1 == 0:\n",
    "        return True\n",
    "    else:\n",
    "        return False\n"
   ]
  },
  {
   "cell_type": "code",
   "execution_count": 13,
   "metadata": {},
   "outputs": [
    {
     "name": "stdout",
     "output_type": "stream",
     "text": [
      "10 y 5 son múltiplos entre sí\n"
     ]
    }
   ],
   "source": [
    "num1 = 10\n",
    "num2 = 5\n",
    "if son_multiplos(num1, num2):\n",
    "    print(f\"{num1} y {num2} son múltiplos entre sí\")\n",
    "else:\n",
    "    print(f\"{num1} y {num2} no son múltiplos entre sí\")"
   ]
  },
  {
   "attachments": {},
   "cell_type": "markdown",
   "metadata": {},
   "source": [
    "#### 5. Función que calcula la temperatura media a partir de una lista de temperaturas:"
   ]
  },
  {
   "cell_type": "code",
   "execution_count": 16,
   "metadata": {},
   "outputs": [],
   "source": [
    "def calcular_temperatura_media(temperaturas):\n",
    "    temperatura_media = sum(temperaturas) / len(temperaturas)\n",
    "    return temperatura_media\n"
   ]
  },
  {
   "cell_type": "code",
   "execution_count": 19,
   "metadata": {},
   "outputs": [
    {
     "name": "stdout",
     "output_type": "stream",
     "text": [
      "16.583333333333332\n"
     ]
    }
   ],
   "source": [
    "temperaturas_bogota = [5, 8, 12, 13, 14, 15, 16, 17, 18, 19, 20, 21, 22, 23, 22, 21, 20, 19, 18, 17, 16, 15, 14, 13]\n",
    "temperatura_media_bogota = calcular_temperatura_media(temperaturas_bogota)\n",
    "print(temperatura_media_bogota)"
   ]
  },
  {
   "attachments": {},
   "cell_type": "markdown",
   "metadata": {},
   "source": [
    "#### 5.1. Función que convierte un texto añadiendo un espacio después de cada letra:"
   ]
  },
  {
   "cell_type": "code",
   "execution_count": 20,
   "metadata": {},
   "outputs": [],
   "source": [
    "def convertir_espaciado(texto):\n",
    "    resultado = \"\"\n",
    "    for letra in texto:\n",
    "        resultado += letra + \" \"\n",
    "    return resultado\n",
    "\n",
    "\n"
   ]
  },
  {
   "cell_type": "code",
   "execution_count": 21,
   "metadata": {},
   "outputs": [
    {
     "name": "stdout",
     "output_type": "stream",
     "text": [
      "H o l a   m u n d o \n"
     ]
    }
   ],
   "source": [
    "texto = \"Hola mundo\"\n",
    "texto_espaciado = convertir_espaciado(texto)\n",
    "print(texto_espaciado)"
   ]
  },
  {
   "attachments": {},
   "cell_type": "markdown",
   "metadata": {},
   "source": [
    "#### 6. Función que calcula el valor máximo y mínimo de un arreglo numérico:"
   ]
  },
  {
   "cell_type": "code",
   "execution_count": 36,
   "metadata": {},
   "outputs": [],
   "source": [
    "def calcularMaxMin(arr):\n",
    "    max_val = max(arr)\n",
    "    min_val = min(arr)\n",
    "    return max_val, min_val\n"
   ]
  },
  {
   "cell_type": "code",
   "execution_count": 45,
   "metadata": {},
   "outputs": [
    {
     "name": "stdout",
     "output_type": "stream",
     "text": [
      "[55 86  4 85 50 64 68 26  2  6]\n",
      "(86, 2)\n"
     ]
    }
   ],
   "source": [
    "import numpy as np\n",
    "num = np.random.randint(1, 100, size=10)\n",
    "print(num)\n",
    "print(calcularMaxMin(num))"
   ]
  },
  {
   "attachments": {},
   "cell_type": "markdown",
   "metadata": {},
   "source": [
    "#### 7. Función para calcular el área y perímetro de una circunferencia:"
   ]
  },
  {
   "cell_type": "code",
   "execution_count": 46,
   "metadata": {},
   "outputs": [],
   "source": [
    "import math\n",
    "\n",
    "def calcularCircunferencia(radio):\n",
    "    area = math.pi * radio ** 2\n",
    "    perimetro = 2 * math.pi * radio\n",
    "    return area, perimetro\n"
   ]
  },
  {
   "cell_type": "code",
   "execution_count": 47,
   "metadata": {},
   "outputs": [
    {
     "data": {
      "text/plain": [
       "(314.1592653589793, 62.83185307179586)"
      ]
     },
     "execution_count": 47,
     "metadata": {},
     "output_type": "execute_result"
    }
   ],
   "source": [
    "calcularCircunferencia(num1)"
   ]
  },
  {
   "attachments": {},
   "cell_type": "markdown",
   "metadata": {},
   "source": [
    "#### 8. Función de login con contador de intentos:"
   ]
  },
  {
   "cell_type": "code",
   "execution_count": 2,
   "metadata": {},
   "outputs": [
    {
     "name": "stdout",
     "output_type": "stream",
     "text": [
      "Inicio de sesión fallido. Intentos:  1\n",
      "Inicio de sesión fallido. Intentos:  2\n",
      "Inicio de sesión fallido. Intentos:  3\n"
     ]
    },
    {
     "ename": "TypeError",
     "evalue": "'bool' object is not subscriptable",
     "output_type": "error",
     "traceback": [
      "\u001b[0;31m---------------------------------------------------------------------------\u001b[0m",
      "\u001b[0;31mTypeError\u001b[0m                                 Traceback (most recent call last)",
      "Cell \u001b[0;32mIn[2], line 12\u001b[0m\n\u001b[1;32m     10\u001b[0m \u001b[39mwhile\u001b[39;00m \u001b[39mTrue\u001b[39;00m:\n\u001b[1;32m     11\u001b[0m     resultado \u001b[39m=\u001b[39m Login(\u001b[39minput\u001b[39m(\u001b[39m\"\u001b[39m\u001b[39mUsuario\u001b[39m\u001b[39m\"\u001b[39m), \u001b[39minput\u001b[39m(\u001b[39m\"\u001b[39m\u001b[39mContraseña\u001b[39m\u001b[39m\"\u001b[39m), intentos)\n\u001b[0;32m---> 12\u001b[0m     \u001b[39mif\u001b[39;00m resultado[\u001b[39m0\u001b[39;49m]:\n\u001b[1;32m     13\u001b[0m         \u001b[39mprint\u001b[39m(\u001b[39m\"\u001b[39m\u001b[39mInicio de sesión exitoso\u001b[39m\u001b[39m\"\u001b[39m)\n\u001b[1;32m     14\u001b[0m         \u001b[39mbreak\u001b[39;00m\n",
      "\u001b[0;31mTypeError\u001b[0m: 'bool' object is not subscriptable"
     ]
    }
   ],
   "source": [
    "intentos = 0\n",
    "\n",
    "def Login(usuario, contrasena, intentos):\n",
    "    if usuario == \"usuario1\" and contrasena == \"asdasd\":\n",
    "        return True\n",
    "    else:\n",
    "        intentos += 1\n",
    "        return False, intentos\n",
    "\n",
    "while True:\n",
    "    resultado = Login(input(\"Usuario\"), input(\"Contraseña\"), intentos)\n",
    "    if resultado[0]:\n",
    "        print(\"Inicio de sesión exitoso\")\n",
    "        break\n",
    "    else:\n",
    "        intentos = resultado[1]\n",
    "        print(\"Inicio de sesión fallido. Intentos: \", intentos)\n",
    "\n"
   ]
  },
  {
   "attachments": {},
   "cell_type": "markdown",
   "metadata": {},
   "source": [
    "#### 9. Función recursiva para calcular el factorial de un número:"
   ]
  },
  {
   "cell_type": "code",
   "execution_count": 3,
   "metadata": {},
   "outputs": [
    {
     "name": "stdout",
     "output_type": "stream",
     "text": [
      "El factorial de 5 es 120\n"
     ]
    }
   ],
   "source": [
    "def factorial(n):\n",
    "    if n == 1:\n",
    "        return 1\n",
    "    else:\n",
    "        return n * factorial(n-1)\n",
    "\n",
    "\n"
   ]
  },
  {
   "cell_type": "code",
   "execution_count": 4,
   "metadata": {},
   "outputs": [
    {
     "name": "stdout",
     "output_type": "stream",
     "text": [
      "El factorial de 10 es 3628800\n"
     ]
    }
   ],
   "source": [
    "# Programa principal para calcular el factorial de un número\n",
    "#numero = int(input(\"Ingrese un número para calcular su factorial: \"))\n",
    "numero = 10\n",
    "resultado = factorial(numero)\n",
    "print(f\"El factorial de {numero} es {resultado}\")"
   ]
  },
  {
   "attachments": {},
   "cell_type": "markdown",
   "metadata": {},
   "source": [
    "#### 10. Funciones para convertir entre tiempo en horas, minutos y segundos y tiempo en segundos:"
   ]
  },
  {
   "cell_type": "code",
   "execution_count": 6,
   "metadata": {},
   "outputs": [],
   "source": [
    "# Función para convertir de tiempo en horas, minutos y segundos a segundos\n",
    "def convertir_a_segundos(horas, minutos, segundos):\n",
    "    total_segundos = horas * 3600 + minutos * 60 + segundos\n",
    "    return total_segundos\n",
    "\n",
    "# Función para convertir de tiempo en segundos a tiempo en horas, minutos y segundos\n",
    "def convertir_a_horas_minutos_segundos(segundos):\n",
    "    horas = segundos // 3600\n",
    "    segundos = segundos % 3600\n",
    "    minutos = segundos // 60\n",
    "    segundos = segundos % 60\n",
    "    return horas, minutos, segundos\n"
   ]
  },
  {
   "cell_type": "code",
   "execution_count": 16,
   "metadata": {},
   "outputs": [
    {
     "name": "stdout",
     "output_type": "stream",
     "text": [
      "(1, 1, 7)\n",
      "3667\n"
     ]
    }
   ],
   "source": [
    "print(convertir_a_horas_minutos_segundos(3600+60+7))\n",
    "print(convertir_a_segundos(1,1,7))\n"
   ]
  },
  {
   "attachments": {},
   "cell_type": "markdown",
   "metadata": {},
   "source": [
    "#### 11. Función para invertir una tupla:"
   ]
  },
  {
   "cell_type": "code",
   "execution_count": 10,
   "metadata": {},
   "outputs": [],
   "source": [
    "def invertir_tupla(tupla):\n",
    "    return tupla[::-1]\n"
   ]
  },
  {
   "cell_type": "code",
   "execution_count": 11,
   "metadata": {},
   "outputs": [
    {
     "data": {
      "text/plain": [
       "'sotad ed aicneic al ed odnum aloH'"
      ]
     },
     "execution_count": 11,
     "metadata": {},
     "output_type": "execute_result"
    }
   ],
   "source": [
    "invertir_tupla(\"Hola mundo de la ciencia de datos\")"
   ]
  },
  {
   "attachments": {},
   "cell_type": "markdown",
   "metadata": {},
   "source": [
    "#### 12. Función para calcular la media geométrica de una lista:"
   ]
  },
  {
   "cell_type": "code",
   "execution_count": 17,
   "metadata": {},
   "outputs": [],
   "source": [
    "from functools import reduce\n",
    "import math\n",
    "\n",
    "def media_geometrica(lista):\n",
    "    producto = reduce(lambda x, y: x * y, lista)\n",
    "    return math.pow(producto, 1/len(lista))\n"
   ]
  },
  {
   "cell_type": "code",
   "execution_count": 18,
   "metadata": {},
   "outputs": [
    {
     "name": "stdout",
     "output_type": "stream",
     "text": [
      "La media geométrica de la lista es: 8.000000000000002\n"
     ]
    }
   ],
   "source": [
    "lista_numeros = [2, 4, 8, 16, 32]\n",
    "resultado = media_geometrica(lista_numeros)\n",
    "\n",
    "print(\"La media geométrica de la lista es:\", resultado)"
   ]
  }
 ],
 "metadata": {
  "kernelspec": {
   "display_name": "work1",
   "language": "python",
   "name": "python3"
  },
  "language_info": {
   "codemirror_mode": {
    "name": "ipython",
    "version": 3
   },
   "file_extension": ".py",
   "mimetype": "text/x-python",
   "name": "python",
   "nbconvert_exporter": "python",
   "pygments_lexer": "ipython3",
   "version": "3.10.9"
  },
  "orig_nbformat": 4,
  "vscode": {
   "interpreter": {
    "hash": "3e5dbd6ffe9f220a41236e4cf34615c18da623d327e602ccfccdf8acffb8b4e9"
   }
  }
 },
 "nbformat": 4,
 "nbformat_minor": 2
}
