{
 "cells": [
  {
   "cell_type": "code",
   "execution_count": 1,
   "metadata": {},
   "outputs": [],
   "source": [
    "import pandas as pd\n",
    "import matplotlib.pyplot as plt\n",
    "\n",
    "class DataStats:\n",
    "    def __init__(self, file_path):\n",
    "        self.df = pd.read_csv(file_path)\n",
    "\n",
    "    def get_stats(self):\n",
    "        return self.df.describe()\n",
    "\n",
    "    def get_variable_names(self):\n",
    "        return self.df.columns.tolist()\n",
    "\n",
    "    def get_variable_stats(self, variable_name):\n",
    "        if variable_name not in self.df.columns:\n",
    "            raise ValueError(f\"Variable {variable_name} not found in dataset\")\n",
    "        variable = self.df[variable_name]\n",
    "        stats = {\n",
    "            'mean': variable.mean(),\n",
    "            'median': variable.median(),\n",
    "            'std': variable.std(),\n",
    "            'q25': variable.quantile(0.25),\n",
    "            'q50': variable.quantile(0.5),\n",
    "            'q75': variable.quantile(0.75)\n",
    "        }\n",
    "        plt.hist(variable, bins=10)\n",
    "        plt.xlabel(variable_name)\n",
    "        plt.show()\n",
    "        return stats\n"
   ]
  },
  {
   "cell_type": "code",
   "execution_count": 3,
   "metadata": {},
   "outputs": [
    {
     "name": "stdout",
     "output_type": "stream",
     "text": [
      "               Id  SepalLengthCm  SepalWidthCm  PetalLengthCm  PetalWidthCm\n",
      "count  150.000000     150.000000    150.000000     150.000000    150.000000\n",
      "mean    75.500000       5.843333      3.054000       3.758667      1.198667\n",
      "std     43.445368       0.828066      0.433594       1.764420      0.763161\n",
      "min      1.000000       4.300000      2.000000       1.000000      0.100000\n",
      "25%     38.250000       5.100000      2.800000       1.600000      0.300000\n",
      "50%     75.500000       5.800000      3.000000       4.350000      1.300000\n",
      "75%    112.750000       6.400000      3.300000       5.100000      1.800000\n",
      "max    150.000000       7.900000      4.400000       6.900000      2.500000\n",
      "['Id', 'SepalLengthCm', 'SepalWidthCm', 'PetalLengthCm', 'PetalWidthCm', 'Species']\n"
     ]
    },
    {
     "data": {
      "image/png": "[encoded data removed]",
      "text/plain": [
       "<Figure size 640x480 with 1 Axes>"
      ]
     },
     "metadata": {},
     "output_type": "display_data"
    },
    {
     "name": "stdout",
     "output_type": "stream",
     "text": [
      "{'mean': 5.843333333333335, 'median': 5.8, 'std': 0.8280661279778629, 'q25': 5.1, 'q50': 5.8, 'q75': 6.4}\n"
     ]
    }
   ],
   "source": [
    "data_stats = DataStats('iris.csv')\n",
    "\n",
    "# Obtener estadísticas descriptivas básicas de cada variable\n",
    "stats = data_stats.get_stats()\n",
    "print(stats)\n",
    "\n",
    "# Obtener nombres de variables disponibles\n",
    "variable_names = data_stats.get_variable_names()\n",
    "print(variable_names)\n",
    "\n",
    "# Obtener estadísticas y graficar histograma de la variable 'sepal_length'\n",
    "sepal_length_stats = data_stats.get_variable_stats('SepalLengthCm')\n",
    "print(sepal_length_stats)\n"
   ]
  }
 ],
 "metadata": {
  "kernelspec": {
   "display_name": "base",
   "language": "python",
   "name": "python3"
  },
  "language_info": {
   "codemirror_mode": {
    "name": "ipython",
    "version": 3
   },
   "file_extension": ".py",
   "mimetype": "text/x-python",
   "name": "python",
   "nbconvert_exporter": "python",
   "pygments_lexer": "ipython3",
   "version": "3.9.12"
  },
  "orig_nbformat": 4,
  "vscode": {
   "interpreter": {
    "hash": "7620f3d2b8afebb785706a9b7e217b2047cf180856e78161a79fff84bf03db70"
   }
  }
 },
 "nbformat": 4,
 "nbformat_minor": 2
}
